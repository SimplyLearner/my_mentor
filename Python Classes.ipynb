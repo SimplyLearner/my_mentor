{
 "cells": [
  {
   "cell_type": "markdown",
   "metadata": {},
   "source": [
    "##  Classes"
   ]
  },
  {
   "cell_type": "markdown",
   "metadata": {},
   "source": [
    "Keeping in with similar explanation from Videos Provided in Olympus.\n",
    "\n",
    "1. Python classes can be considered as a special data type, which can\n",
    "    have its own variables & functions\n",
    "\n",
    "2. Variables created inside the classes are called as : Attributes\n",
    "    Functions created inside the classes are called as : Methods\n",
    "\n",
    "3. We create a new class with the use of `class` keyword\n",
    "\n",
    "4. A class, can have a constructor (a function that gets run everytime a new object is create)\n",
    "    We create the constructor with the use of the name as: __init__()\n",
    "\n",
    "##### Other Important Note:\n",
    "    When we are creating a method inside the class, the first argument of the method\n",
    "    will always be --> self\n",
    "\n",
    "    self --> it is a alias name we use to refer the object that is being sent.\n"
   ]
  },
  {
   "cell_type": "markdown",
   "metadata": {},
   "source": [
    "### Start by creating a new class"
   ]
  },
  {
   "cell_type": "code",
   "execution_count": 1,
   "metadata": {},
   "outputs": [],
   "source": [
    "class Student: #class  <class_name>\n",
    "    def __init__(self,marks):  #first argument refers to the object itself\n",
    "        self.marks = marks  #This will set the value of the variable which is specific for the object being created\n",
    "    \n",
    "    def display_marks(self):\n",
    "        print(\"Hello marks is\",self.marks) #In order to access the elements present inside the class, we use syntax as : self.<variable_name>"
   ]
  },
  {
   "cell_type": "code",
   "execution_count": 2,
   "metadata": {},
   "outputs": [
    {
     "ename": "TypeError",
     "evalue": "__init__() missing 1 required positional argument: 'marks'",
     "output_type": "error",
     "traceback": [
      "\u001b[1;31m---------------------------------------------------------------------------\u001b[0m",
      "\u001b[1;31mTypeError\u001b[0m                                 Traceback (most recent call last)",
      "\u001b[1;32m<ipython-input-2-f060dfa6ad0c>\u001b[0m in \u001b[0;36m<module>\u001b[1;34m\u001b[0m\n\u001b[1;32m----> 1\u001b[1;33m \u001b[0ms1\u001b[0m \u001b[1;33m=\u001b[0m \u001b[0mStudent\u001b[0m\u001b[1;33m(\u001b[0m\u001b[1;33m)\u001b[0m \u001b[1;31m#creation of object. Gives error, as the init method expects an argument as marks\u001b[0m\u001b[1;33m\u001b[0m\u001b[1;33m\u001b[0m\u001b[0m\n\u001b[0m",
      "\u001b[1;31mTypeError\u001b[0m: __init__() missing 1 required positional argument: 'marks'"
     ]
    }
   ],
   "source": [
    "#creation of object\n",
    "s1 = Student() # Gives error, as the init method expects an argument as \"marks\""
   ]
  },
  {
   "cell_type": "code",
   "execution_count": 3,
   "metadata": {},
   "outputs": [],
   "source": [
    "s1 = Student(50) #value 50, will be sent to argument:marks"
   ]
  },
  {
   "cell_type": "code",
   "execution_count": 4,
   "metadata": {},
   "outputs": [],
   "source": [
    "s1 = Student(marks=50) #this is same as before"
   ]
  },
  {
   "cell_type": "markdown",
   "metadata": {},
   "source": [
    "Note:\n",
    "    If you observe above code, when i am creating a new object, My __init__ method expects two arguments,\n",
    "    \"self\" and \"marks\". But I am sending only one argument. Because, when we call any method which is present inside the class,\n",
    "    the object itself is sent as first argument.\n",
    "    \n",
    "    In this case, the object \"s1\" is sent as first argument (in the place of argument - self)    "
   ]
  },
  {
   "cell_type": "code",
   "execution_count": 5,
   "metadata": {},
   "outputs": [
    {
     "name": "stdout",
     "output_type": "stream",
     "text": [
      "Hello marks is 50\n"
     ]
    }
   ],
   "source": [
    "#calling a method inside the class\n",
    "# object_name.method_name()\n",
    "\n",
    "s1.display_marks()"
   ]
  },
  {
   "cell_type": "code",
   "execution_count": null,
   "metadata": {},
   "outputs": [],
   "source": []
  }
 ],
 "metadata": {
  "kernelspec": {
   "display_name": "Python 3",
   "language": "python",
   "name": "python3"
  },
  "language_info": {
   "codemirror_mode": {
    "name": "ipython",
    "version": 3
   },
   "file_extension": ".py",
   "mimetype": "text/x-python",
   "name": "python",
   "nbconvert_exporter": "python",
   "pygments_lexer": "ipython3",
   "version": "3.7.4"
  }
 },
 "nbformat": 4,
 "nbformat_minor": 4
}
