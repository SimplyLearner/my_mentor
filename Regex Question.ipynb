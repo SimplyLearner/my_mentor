{
 "cells": [
  {
   "cell_type": "code",
   "execution_count": 1,
   "metadata": {},
   "outputs": [],
   "source": [
    "import pandas as pd\n",
    "\n",
    "email_data = pd.read_csv('Random Email Dataset.csv')"
   ]
  },
  {
   "cell_type": "code",
   "execution_count": 2,
   "metadata": {},
   "outputs": [
    {
     "data": {
      "text/plain": [
       "0               mnmwuhasdwqweqw\n",
       "1           cynvhupf@gamail.com\n",
       "2           doznfpxy@gamail.com\n",
       "3             ufpgolgelastqxaoi\n",
       "4      rdvafvkummnuj@yahooo.com\n",
       "                 ...           \n",
       "165         ptvqlffe@gamail.com\n",
       "166         lzcrsiuo@gamail.com\n",
       "167         iydthkxz@gamail.com\n",
       "168           mpmwehcnjjntjvfnl\n",
       "169      mphibnuxgtr@yahooo.com\n",
       "Name: Email Address, Length: 170, dtype: object"
      ]
     },
     "execution_count": 2,
     "metadata": {},
     "output_type": "execute_result"
    }
   ],
   "source": [
    "import re\n",
    "x = email_data['Email Address']\n",
    "x"
   ]
  },
  {
   "cell_type": "code",
   "execution_count": 4,
   "metadata": {},
   "outputs": [
    {
     "data": {
      "text/plain": [
       "'mnmwuhasdwqweqwcynvhupf@gamail.comdoznfpxy@gamail.comufpgolgelastqxaoirdvafvkummnuj@yahooo.comrvkwwlntnchl@yahooo.comhrgsyomuf@gamail.comspiltjsn@yahooo.commtrhitjlqw@gamail.comoerdomqxcb@gamail.comojsasdweeewqjasdwweeeqgilmivlrwnfbss@yahooo.comanuaackiokhac@yahooo.comroclrzpyjf@gamail.comahsjitbw@gamail.comiupwkgasdweqeewnatzhmxfx@gamail.comungxqtzk@gamail.comfbdvsxmz@gamail.comdfhjmsfwzo@gamail.comfctkqhbr@yahooo.comrmykhpek@gamail.combkrfsjbxa@gamail.comrvekpvpupelcpcetxcilthi@gamail.comfdwtktzb@gamail.comcigudlhqgo@yahooo.comgasdeqeqweyhgsbbuwi@gamail.comaxnnkyzfw@gamail.commfnuidsdkv@gamail.comkmqukhckbhk@yahooo.combwfasdeqwqwwsidhmibmc@gamail.comhajdffrjjt@gamail.comxpkgzqlonx@gamail.comvfbudpenpu@gamail.comlarmsherg@gamail.comchfbukyfq@gamail.comriaotsnqb@yahooo.comufhkwbpawf@gamail.comimmznovrvt@gamail.comuuvjkmvyz@gamail.comikxzclcijp@gamail.comcoxkbauib@gamail.comepuaniefyc@gamail.comudqxrdnm@yahooo.comnuguxfaxahhvyjsrgtbkrc@gamail.comajoxctasdwweeqegiiempwyyb@gamail.comqdvwzbhkei@gamail.comokkasdewqeewokryynvaa@gamail.comvcywoyuf@gamail.comqluwgvwiahgrtbraplsn@gamail.comlrxxvidjc@gamail.comjbgpfqchyr@gamail.comhnublhpdl@gamail.comcrrflbgh@gamail.comxxhpreasdqeqwwwcqdwbnfkpd@yahooo.combrkvboow@gamail.comkvucccrmersslpxoveszpxrjagut@gamail.comawgzgumb@gamail.comckkvrefqd@yahooo.comcseccgfneb@gamail.comsruptmen@gamail.comyvhhukjn@gamail.comelnhgwcbyv@gamail.comkjnjlcxwti@yahooo.comsviqhylb@gamail.comjqmadasdqwqwwwyadbsvwvg@gamail.comaaorvyysxf@gamail.comxjmgparcc@gamail.comywcqscai@gamail.comoxoqdxpgn@yahooo.comehzuneriqo@gamail.compqwmeexn@gamail.comxukonboq@gamail.comdasdwqqwwwrbaphprlucgmjuxamtwzsir@gamail.comaphoiajgtwxk@yahooo.comumxsdasdqwqeqqudfdqqwr@gamail.comkgbxxhcg@gamail.comrvymiywr@gamail.comgucwwzsvna@gamail.comfetsvhueis@yahooo.comvyhryvdws@gamail.comxduplvccf@gamail.comzaulskbal@gamail.comzzoincwqj@gamail.comgjltjnzveh@gamail.comncxasdeqwwweerbddjgrbovpts@yahooo.comctkchmorojwugdmwzaxraky@gamail.comlcprqplxuvmhpkgiyzzek@gamail.combettkasdqwwqewxioqnlwvexjfhwiaxxcclugn@gamail.comaxjwgwrebraowmxkqpngkfuyi@gamail.comjwgpyftju@gamail.comendklheyf@gamail.comxaygsobmj@gamail.comhvadllcan@gamail.comhasdwqeqwekjwhthatehgglsjchuisi@gamail.comquomwvasdqwewwemavxmlrofooa@yahooo.comessrtfudqedpcaknyxtuhiky@gamail.comtxjtmqrpcucjq@yahooo.comcvayqkmvp@gamail.comwsekosltxcflae@yahooo.comwlkshtyo@gamail.comciaswdupft@gamail.comtxbmspprkbwintghomgvtomjuujltvimfxqqeasgapxwumww@yahooo.comsxflxpnlbpmkpxikksjaxtoouvadaehfooirdtphkuwur@gamail.comrhmasdqeeqwqrfcgbxvpa@gamail.comdwqehbqgmhsrqv@yahooo.combvvgtffhqenutfqktjxdwlnmo@gamail.comzkpccwuyxg@gamail.comscrissrlgofe@yahooo.comdcvqqlgeds@gamail.comztvuqejs@gamail.comvycrqymksj@gamail.comumivtwugly@gamail.comdfzlhbnqgn@gamail.comjzftqqmsgg@gamail.compdinqfvjkmtoutpewlugzyqlho@gamail.comubacaqudlmkkeiivjhrhgqjiromffb@gamail.comtingcagmlqe@yahooo.comdkhofbftkpelo@yahooo.comlzsfpjtao@gamail.comzebnwcxgyr@gamail.combexgeucdsh@yahooo.comgxsasdeqqeqwmuxckttvbpl@yahooo.comewjrfvifdmcj@yahooo.compkasdeweqewbjbkdhrbpru@yahooo.comyjxvtmpu@gamail.comqplgeulsca@gamail.comgqlksquxy@gamail.commryphjpzmy@gamail.comzibibnujl@gamail.comiowkasdweqwqwptvqlffe@gamail.comlzcrsiuo@gamail.comiydthkxz@gamail.commpmwehcnjjntjvfnlmphibnuxgtr@yahooo.com'"
      ]
     },
     "execution_count": 4,
     "metadata": {},
     "output_type": "execute_result"
    }
   ],
   "source": [
    "\"\".join(x) #this will join all elements in x , one next to each other"
   ]
  },
  {
   "cell_type": "code",
   "execution_count": 6,
   "metadata": {},
   "outputs": [
    {
     "data": {
      "text/plain": [
       "'mnmwuhasdwqweqw||cynvhupf@gamail.com||doznfpxy@gamail.com||ufpgolgelastqxaoi||rdvafvkummnuj@yahooo.com||rvkwwlntnchl@yahooo.com||hrgsyomuf@gamail.com||spiltjsn@yahooo.com||mtrhitjlqw@gamail.com||oerdomqxcb@gamail.com||ojsasdweeewq||jasdwweeeq||gilmivlrwnfbss@yahooo.com||anuaackiokhac@yahooo.com||roclrzpyjf@gamail.com||ahsjitbw@gamail.com||iupwkgasdweqeew||natzhmxfx@gamail.com||ungxqtzk@gamail.com||fbdvsxmz@gamail.com||dfhjmsfwzo@gamail.com||fctkqhbr@yahooo.com||rmykhpek@gamail.com||bkrfsjbxa@gamail.com||rvekpvpupelcp||cetxcilthi@gamail.com||fdwtktzb@gamail.com||cigudlhqgo@yahooo.com||gasdeqeqwe||yhgsbbuwi@gamail.com||axnnkyzfw@gamail.com||mfnuidsdkv@gamail.com||kmqukhckbhk@yahooo.com||bwfasdeqwqww||sidhmibmc@gamail.com||hajdffrjjt@gamail.com||xpkgzqlonx@gamail.com||vfbudpenpu@gamail.com||larmsherg@gamail.com||chfbukyfq@gamail.com||riaotsnqb@yahooo.com||ufhkwbpawf@gamail.com||immznovrvt@gamail.com||uuvjkmvyz@gamail.com||ikxzclcijp@gamail.com||coxkbauib@gamail.com||epuaniefyc@gamail.com||udqxrdnm@yahooo.com||nuguxfaxahhv||yjsrgtbkrc@gamail.com||ajoxctasdwweeqe||giiempwyyb@gamail.com||qdvwzbhkei@gamail.com||okkasdewqeew||okryynvaa@gamail.com||vcywoyuf@gamail.com||qluwgvwiahgr||tbraplsn@gamail.com||lrxxvidjc@gamail.com||jbgpfqchyr@gamail.com||hnublhpdl@gamail.com||crrflbgh@gamail.com||xxhpreasdqeqwww||cqdwbnfkpd@yahooo.com||brkvboow@gamail.com||kvucccrmersslpxove||szpxrjagut@gamail.com||awgzgumb@gamail.com||ckkvrefqd@yahooo.com||cseccgfneb@gamail.com||sruptmen@gamail.com||yvhhukjn@gamail.com||elnhgwcbyv@gamail.com||kjnjlcxwti@yahooo.com||sviqhylb@gamail.com||jqmadasdqwqwww||yadbsvwvg@gamail.com||aaorvyysxf@gamail.com||xjmgparcc@gamail.com||ywcqscai@gamail.com||oxoqdxpgn@yahooo.com||ehzuneriqo@gamail.com||pqwmeexn@gamail.com||xukonboq@gamail.com||dasdwqqwww||rbaphprlucgmjux||amtwzsir@gamail.com||aphoiajgtwxk@yahooo.com||umxsdasdqwqeqq||udfdqqwr@gamail.com||kgbxxhcg@gamail.com||rvymiywr@gamail.com||gucwwzsvna@gamail.com||fetsvhueis@yahooo.com||vyhryvdws@gamail.com||xduplvccf@gamail.com||zaulskbal@gamail.com||zzoincwqj@gamail.com||gjltjnzveh@gamail.com||ncxasdeqwwwe||erbddjgrbovpts@yahooo.com||ctkchmorojwug||dmwzaxraky@gamail.com||lcprqplxuvmh||pkgiyzzek@gamail.com||bettkasdqwwqew||xioqnlwvexjfhwi||axxcclugn@gamail.com||axjwgwrebraowmxkq||pngkfuyi@gamail.com||jwgpyftju@gamail.com||endklheyf@gamail.com||xaygsobmj@gamail.com||hvadllcan@gamail.com||hasdwqeqwe||kjwhthatehggl||sjchuisi@gamail.com||quomwvasdqwewwe||mavxmlrofooa@yahooo.com||essrtfudqedpca||knyxtuhiky@gamail.com||txjtmqrpcucjq@yahooo.com||cvayqkmvp@gamail.com||wsekosltxcflae@yahooo.com||wlkshtyo@gamail.com||ciaswdupft@gamail.com||txbmspprkbwintgh||omgvtomjuujltvimfxqq||easgapxwumww@yahooo.com||sxflxpnlbpmkpxik||ksjaxtoouvadaehfooir||dtphkuwur@gamail.com||rhmasdqeeqwq||rfcgbxvpa@gamail.com||dwqehbqgmhsrqv@yahooo.com||bvvgtffhqenutfqkt||jxdwlnmo@gamail.com||zkpccwuyxg@gamail.com||scrissrlgofe@yahooo.com||dcvqqlgeds@gamail.com||ztvuqejs@gamail.com||vycrqymksj@gamail.com||umivtwugly@gamail.com||dfzlhbnqgn@gamail.com||jzftqqmsgg@gamail.com||pdinqfvjkmtoutpe||wlugzyqlho@gamail.com||ubacaqudlmkkeiivjhrh||gqjiromffb@gamail.com||tingcagmlqe@yahooo.com||dkhofbftkpelo@yahooo.com||lzsfpjtao@gamail.com||zebnwcxgyr@gamail.com||bexgeucdsh@yahooo.com||gxsasdeqqeqw||muxckttvbpl@yahooo.com||ewjrfvifdmcj@yahooo.com||pkasdeweqew||bjbkdhrbpru@yahooo.com||yjxvtmpu@gamail.com||qplgeulsca@gamail.com||gqlksquxy@gamail.com||mryphjpzmy@gamail.com||zibibnujl@gamail.com||iowkasdweqwqw||ptvqlffe@gamail.com||lzcrsiuo@gamail.com||iydthkxz@gamail.com||mpmwehcnjjntjvfnl||mphibnuxgtr@yahooo.com'"
      ]
     },
     "execution_count": 6,
     "metadata": {},
     "output_type": "execute_result"
    }
   ],
   "source": [
    "\"||\".join(x) #this will join individual elements of email addresses with double piple symbols"
   ]
  },
  {
   "cell_type": "code",
   "execution_count": 7,
   "metadata": {},
   "outputs": [
    {
     "data": {
      "text/plain": [
       "'mnmwuhasdwqweqw cynvhupf@gamail.com doznfpxy@gamail.com ufpgolgelastqxaoi rdvafvkummnuj@yahooo.com rvkwwlntnchl@yahooo.com hrgsyomuf@gamail.com spiltjsn@yahooo.com mtrhitjlqw@gamail.com oerdomqxcb@gamail.com ojsasdweeewq jasdwweeeq gilmivlrwnfbss@yahooo.com anuaackiokhac@yahooo.com roclrzpyjf@gamail.com ahsjitbw@gamail.com iupwkgasdweqeew natzhmxfx@gamail.com ungxqtzk@gamail.com fbdvsxmz@gamail.com dfhjmsfwzo@gamail.com fctkqhbr@yahooo.com rmykhpek@gamail.com bkrfsjbxa@gamail.com rvekpvpupelcp cetxcilthi@gamail.com fdwtktzb@gamail.com cigudlhqgo@yahooo.com gasdeqeqwe yhgsbbuwi@gamail.com axnnkyzfw@gamail.com mfnuidsdkv@gamail.com kmqukhckbhk@yahooo.com bwfasdeqwqww sidhmibmc@gamail.com hajdffrjjt@gamail.com xpkgzqlonx@gamail.com vfbudpenpu@gamail.com larmsherg@gamail.com chfbukyfq@gamail.com riaotsnqb@yahooo.com ufhkwbpawf@gamail.com immznovrvt@gamail.com uuvjkmvyz@gamail.com ikxzclcijp@gamail.com coxkbauib@gamail.com epuaniefyc@gamail.com udqxrdnm@yahooo.com nuguxfaxahhv yjsrgtbkrc@gamail.com ajoxctasdwweeqe giiempwyyb@gamail.com qdvwzbhkei@gamail.com okkasdewqeew okryynvaa@gamail.com vcywoyuf@gamail.com qluwgvwiahgr tbraplsn@gamail.com lrxxvidjc@gamail.com jbgpfqchyr@gamail.com hnublhpdl@gamail.com crrflbgh@gamail.com xxhpreasdqeqwww cqdwbnfkpd@yahooo.com brkvboow@gamail.com kvucccrmersslpxove szpxrjagut@gamail.com awgzgumb@gamail.com ckkvrefqd@yahooo.com cseccgfneb@gamail.com sruptmen@gamail.com yvhhukjn@gamail.com elnhgwcbyv@gamail.com kjnjlcxwti@yahooo.com sviqhylb@gamail.com jqmadasdqwqwww yadbsvwvg@gamail.com aaorvyysxf@gamail.com xjmgparcc@gamail.com ywcqscai@gamail.com oxoqdxpgn@yahooo.com ehzuneriqo@gamail.com pqwmeexn@gamail.com xukonboq@gamail.com dasdwqqwww rbaphprlucgmjux amtwzsir@gamail.com aphoiajgtwxk@yahooo.com umxsdasdqwqeqq udfdqqwr@gamail.com kgbxxhcg@gamail.com rvymiywr@gamail.com gucwwzsvna@gamail.com fetsvhueis@yahooo.com vyhryvdws@gamail.com xduplvccf@gamail.com zaulskbal@gamail.com zzoincwqj@gamail.com gjltjnzveh@gamail.com ncxasdeqwwwe erbddjgrbovpts@yahooo.com ctkchmorojwug dmwzaxraky@gamail.com lcprqplxuvmh pkgiyzzek@gamail.com bettkasdqwwqew xioqnlwvexjfhwi axxcclugn@gamail.com axjwgwrebraowmxkq pngkfuyi@gamail.com jwgpyftju@gamail.com endklheyf@gamail.com xaygsobmj@gamail.com hvadllcan@gamail.com hasdwqeqwe kjwhthatehggl sjchuisi@gamail.com quomwvasdqwewwe mavxmlrofooa@yahooo.com essrtfudqedpca knyxtuhiky@gamail.com txjtmqrpcucjq@yahooo.com cvayqkmvp@gamail.com wsekosltxcflae@yahooo.com wlkshtyo@gamail.com ciaswdupft@gamail.com txbmspprkbwintgh omgvtomjuujltvimfxqq easgapxwumww@yahooo.com sxflxpnlbpmkpxik ksjaxtoouvadaehfooir dtphkuwur@gamail.com rhmasdqeeqwq rfcgbxvpa@gamail.com dwqehbqgmhsrqv@yahooo.com bvvgtffhqenutfqkt jxdwlnmo@gamail.com zkpccwuyxg@gamail.com scrissrlgofe@yahooo.com dcvqqlgeds@gamail.com ztvuqejs@gamail.com vycrqymksj@gamail.com umivtwugly@gamail.com dfzlhbnqgn@gamail.com jzftqqmsgg@gamail.com pdinqfvjkmtoutpe wlugzyqlho@gamail.com ubacaqudlmkkeiivjhrh gqjiromffb@gamail.com tingcagmlqe@yahooo.com dkhofbftkpelo@yahooo.com lzsfpjtao@gamail.com zebnwcxgyr@gamail.com bexgeucdsh@yahooo.com gxsasdeqqeqw muxckttvbpl@yahooo.com ewjrfvifdmcj@yahooo.com pkasdeweqew bjbkdhrbpru@yahooo.com yjxvtmpu@gamail.com qplgeulsca@gamail.com gqlksquxy@gamail.com mryphjpzmy@gamail.com zibibnujl@gamail.com iowkasdweqwqw ptvqlffe@gamail.com lzcrsiuo@gamail.com iydthkxz@gamail.com mpmwehcnjjntjvfnl mphibnuxgtr@yahooo.com'"
      ]
     },
     "execution_count": 7,
     "metadata": {},
     "output_type": "execute_result"
    }
   ],
   "source": [
    "\" \".join(x) #this will join individual elements of x by leaving space between them"
   ]
  },
  {
   "cell_type": "code",
   "execution_count": 11,
   "metadata": {},
   "outputs": [
    {
     "name": "stdout",
     "output_type": "stream",
     "text": [
      "Number of  email ids: 130\n"
     ]
    }
   ],
   "source": [
    "string_space = \" \".join(x)\n",
    "\n",
    "pattern1 = re.compile(r'[a-zA-Z0-9_]*@[a-zA-Z0-9_]*\\.com\\b') #using a space after each address in the pattern\n",
    "matches = pattern1.finditer(string_space) #using the above variable\n",
    "counter = 0\n",
    "for mat in matches:\n",
    "    counter = counter+1\n",
    "print('Number of  email ids:', counter)"
   ]
  },
  {
   "cell_type": "code",
   "execution_count": 12,
   "metadata": {},
   "outputs": [
    {
     "name": "stdout",
     "output_type": "stream",
     "text": [
      "<re.Match object; span=(3197, 3239), match='commpmwehcnjjntjvfnlmphibnuxgtr@yahooo.com'>\n",
      "Number of  email ids: 1\n"
     ]
    }
   ],
   "source": [
    "without_space = \"\".join(x)\n",
    "\n",
    "pattern1 = re.compile(r'[a-zA-Z0-9_]*@[a-zA-Z0-9_]*\\.com\\b') #using a space after each address in the pattern\n",
    "matches = pattern1.finditer(without_space) #using the above variable\n",
    "counter = 0\n",
    "for mat in matches:\n",
    "    counter = counter+1\n",
    "    print(mat) #print match\n",
    "print('Number of  email ids:', counter)\n",
    "#this will count only the last email id as valid and return the same, you can see in output"
   ]
  },
  {
   "cell_type": "code",
   "execution_count": null,
   "metadata": {},
   "outputs": [],
   "source": [
    "#verify the output by referring below output #commpmwehcnjjntjvfnlmphibnuxgtr@yahooo.com"
   ]
  },
  {
   "cell_type": "code",
   "execution_count": 13,
   "metadata": {},
   "outputs": [
    {
     "data": {
      "text/plain": [
       "'mnmwuhasdwqweqwcynvhupf@gamail.comdoznfpxy@gamail.comufpgolgelastqxaoirdvafvkummnuj@yahooo.comrvkwwlntnchl@yahooo.comhrgsyomuf@gamail.comspiltjsn@yahooo.commtrhitjlqw@gamail.comoerdomqxcb@gamail.comojsasdweeewqjasdwweeeqgilmivlrwnfbss@yahooo.comanuaackiokhac@yahooo.comroclrzpyjf@gamail.comahsjitbw@gamail.comiupwkgasdweqeewnatzhmxfx@gamail.comungxqtzk@gamail.comfbdvsxmz@gamail.comdfhjmsfwzo@gamail.comfctkqhbr@yahooo.comrmykhpek@gamail.combkrfsjbxa@gamail.comrvekpvpupelcpcetxcilthi@gamail.comfdwtktzb@gamail.comcigudlhqgo@yahooo.comgasdeqeqweyhgsbbuwi@gamail.comaxnnkyzfw@gamail.commfnuidsdkv@gamail.comkmqukhckbhk@yahooo.combwfasdeqwqwwsidhmibmc@gamail.comhajdffrjjt@gamail.comxpkgzqlonx@gamail.comvfbudpenpu@gamail.comlarmsherg@gamail.comchfbukyfq@gamail.comriaotsnqb@yahooo.comufhkwbpawf@gamail.comimmznovrvt@gamail.comuuvjkmvyz@gamail.comikxzclcijp@gamail.comcoxkbauib@gamail.comepuaniefyc@gamail.comudqxrdnm@yahooo.comnuguxfaxahhvyjsrgtbkrc@gamail.comajoxctasdwweeqegiiempwyyb@gamail.comqdvwzbhkei@gamail.comokkasdewqeewokryynvaa@gamail.comvcywoyuf@gamail.comqluwgvwiahgrtbraplsn@gamail.comlrxxvidjc@gamail.comjbgpfqchyr@gamail.comhnublhpdl@gamail.comcrrflbgh@gamail.comxxhpreasdqeqwwwcqdwbnfkpd@yahooo.combrkvboow@gamail.comkvucccrmersslpxoveszpxrjagut@gamail.comawgzgumb@gamail.comckkvrefqd@yahooo.comcseccgfneb@gamail.comsruptmen@gamail.comyvhhukjn@gamail.comelnhgwcbyv@gamail.comkjnjlcxwti@yahooo.comsviqhylb@gamail.comjqmadasdqwqwwwyadbsvwvg@gamail.comaaorvyysxf@gamail.comxjmgparcc@gamail.comywcqscai@gamail.comoxoqdxpgn@yahooo.comehzuneriqo@gamail.compqwmeexn@gamail.comxukonboq@gamail.comdasdwqqwwwrbaphprlucgmjuxamtwzsir@gamail.comaphoiajgtwxk@yahooo.comumxsdasdqwqeqqudfdqqwr@gamail.comkgbxxhcg@gamail.comrvymiywr@gamail.comgucwwzsvna@gamail.comfetsvhueis@yahooo.comvyhryvdws@gamail.comxduplvccf@gamail.comzaulskbal@gamail.comzzoincwqj@gamail.comgjltjnzveh@gamail.comncxasdeqwwweerbddjgrbovpts@yahooo.comctkchmorojwugdmwzaxraky@gamail.comlcprqplxuvmhpkgiyzzek@gamail.combettkasdqwwqewxioqnlwvexjfhwiaxxcclugn@gamail.comaxjwgwrebraowmxkqpngkfuyi@gamail.comjwgpyftju@gamail.comendklheyf@gamail.comxaygsobmj@gamail.comhvadllcan@gamail.comhasdwqeqwekjwhthatehgglsjchuisi@gamail.comquomwvasdqwewwemavxmlrofooa@yahooo.comessrtfudqedpcaknyxtuhiky@gamail.comtxjtmqrpcucjq@yahooo.comcvayqkmvp@gamail.comwsekosltxcflae@yahooo.comwlkshtyo@gamail.comciaswdupft@gamail.comtxbmspprkbwintghomgvtomjuujltvimfxqqeasgapxwumww@yahooo.comsxflxpnlbpmkpxikksjaxtoouvadaehfooirdtphkuwur@gamail.comrhmasdqeeqwqrfcgbxvpa@gamail.comdwqehbqgmhsrqv@yahooo.combvvgtffhqenutfqktjxdwlnmo@gamail.comzkpccwuyxg@gamail.comscrissrlgofe@yahooo.comdcvqqlgeds@gamail.comztvuqejs@gamail.comvycrqymksj@gamail.comumivtwugly@gamail.comdfzlhbnqgn@gamail.comjzftqqmsgg@gamail.compdinqfvjkmtoutpewlugzyqlho@gamail.comubacaqudlmkkeiivjhrhgqjiromffb@gamail.comtingcagmlqe@yahooo.comdkhofbftkpelo@yahooo.comlzsfpjtao@gamail.comzebnwcxgyr@gamail.combexgeucdsh@yahooo.comgxsasdeqqeqwmuxckttvbpl@yahooo.comewjrfvifdmcj@yahooo.compkasdeweqewbjbkdhrbpru@yahooo.comyjxvtmpu@gamail.comqplgeulsca@gamail.comgqlksquxy@gamail.commryphjpzmy@gamail.comzibibnujl@gamail.comiowkasdweqwqwptvqlffe@gamail.comlzcrsiuo@gamail.comiydthkxz@gamail.commpmwehcnjjntjvfnlmphibnuxgtr@yahooo.com'"
      ]
     },
     "execution_count": 13,
     "metadata": {},
     "output_type": "execute_result"
    }
   ],
   "source": [
    "without_space"
   ]
  },
  {
   "cell_type": "code",
   "execution_count": null,
   "metadata": {},
   "outputs": [],
   "source": []
  }
 ],
 "metadata": {
  "kernelspec": {
   "display_name": "Python 3",
   "language": "python",
   "name": "python3"
  },
  "language_info": {
   "codemirror_mode": {
    "name": "ipython",
    "version": 3
   },
   "file_extension": ".py",
   "mimetype": "text/x-python",
   "name": "python",
   "nbconvert_exporter": "python",
   "pygments_lexer": "ipython3",
   "version": "3.7.6"
  }
 },
 "nbformat": 4,
 "nbformat_minor": 4
}
